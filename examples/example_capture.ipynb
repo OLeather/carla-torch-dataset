{
 "cells": [
  {
   "cell_type": "code",
   "execution_count": 2,
   "metadata": {},
   "outputs": [
    {
     "name": "stderr",
     "output_type": "stream",
     "text": [
      "WARNING: attempting to unsubscribe from stream but sensor wasn't listening: Actor 28 (sensor.camera.rgb) \n",
      "WARNING: attempting to unsubscribe from stream but sensor wasn't listening: Actor 29 (sensor.camera.depth) \n"
     ]
    }
   ],
   "source": [
    "from carla_data_collector import CarlaDataCollector\n",
    "\n",
    "# hostname is the hostname of the carla server, either localhost or the name of the docker container\n",
    "# data_dir is the directory to store the data\n",
    "data = CarlaDataCollector(hostname='carla_server', data_dir='/data')\n",
    "\n",
    "data.add_ego_vehicle()\n",
    "\n",
    "# sensor data will be output to /data_dir/label\n",
    "data.add_rgb_camera(label='rgb')\n",
    "data.add_depth_camera(label='depth')\n",
    "\n",
    "data.set_ego_autopilot(True)\n",
    "\n",
    "# will capture num_ticks datapoints from carla\n",
    "data.start(num_ticks=1000)\n",
    "data.stop()"
   ]
  }
 ],
 "metadata": {
  "kernelspec": {
   "display_name": "Python 3 (ipykernel)",
   "language": "python",
   "name": "python3"
  },
  "language_info": {
   "codemirror_mode": {
    "name": "ipython",
    "version": 3
   },
   "file_extension": ".py",
   "mimetype": "text/x-python",
   "name": "python",
   "nbconvert_exporter": "python",
   "pygments_lexer": "ipython3",
   "version": "3.8.16"
  },
  "orig_nbformat": 4
 },
 "nbformat": 4,
 "nbformat_minor": 2
}
